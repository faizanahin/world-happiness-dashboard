{
 "cells": [
  {
   "cell_type": "markdown",
   "id": "17fca3f5",
   "metadata": {},
   "source": [
    "# 🌍 World Happiness Dashboard - Colab Version\n",
    "\n",
    "This notebook contains the code for your Streamlit project. You can edit, test, and download the `app.py` file from here."
   ]
  },
  {
   "cell_type": "code",
   "execution_count": null,
   "id": "a3e6e38c",
   "metadata": {},
   "outputs": [],
   "source": [
    "\n",
    "# Step 1: Prepare the Streamlit dashboard code as a Python string\n",
    "streamlit_code = \"\"\" \n",
    "import pandas as pd\n",
    "import plotly.express as px\n",
    "import streamlit as st\n",
    "\n",
    "# Load the simulated dataset\n",
    "data = {\n",
    "    \"Country name\": [\"Finland\", \"Denmark\", \"Switzerland\", \"Iceland\", \"Netherlands\"],\n",
    "    \"year\": [2021, 2021, 2021, 2021, 2021],\n",
    "    \"Life Ladder\": [7.8, 7.6, 7.5, 7.4, 7.3],\n",
    "    \"Log GDP per capita\": [10.7, 10.6, 10.5, 10.4, 10.3],\n",
    "    \"Social support\": [0.96, 0.95, 0.94, 0.93, 0.92],\n",
    "    \"Healthy life expectancy at birth\": [72.0, 71.8, 72.5, 71.9, 72.3],\n",
    "    \"Region\": [\"Western Europe\"] * 5\n",
    "}\n",
    "df = pd.DataFrame(data)\n",
    "\n",
    "# Streamlit UI\n",
    "st.set_page_config(page_title=\"World Happiness Dashboard\", layout=\"centered\")\n",
    "st.title(\"🌍 World Happiness Dashboard\")\n",
    "\n",
    "st.sidebar.header(\"Filter by Region or Country\")\n",
    "selected_region = st.sidebar.selectbox(\"Select Region\", df[\"Region\"].unique())\n",
    "filtered_df = df[df[\"Region\"] == selected_region]\n",
    "\n",
    "selected_country = st.sidebar.selectbox(\"Select Country\", filtered_df[\"Country name\"].unique())\n",
    "country_data = filtered_df[filtered_df[\"Country name\"] == selected_country]\n",
    "\n",
    "# Country details\n",
    "st.subheader(f\"Data for: {selected_country}\")\n",
    "st.write(country_data)\n",
    "\n",
    "# Bar chart of main indicators\n",
    "st.subheader(\"📊 Key Indicators\")\n",
    "st.bar_chart(country_data[[\"Life Ladder\", \"Log GDP per capita\", \"Social support\"]].T)\n",
    "\n",
    "# Bubble chart\n",
    "st.subheader(\"🌐 Bubble Chart: Happiness vs GDP\")\n",
    "fig = px.scatter(df,\n",
    "                 x=\"Log GDP per capita\",\n",
    "                 y=\"Life Ladder\",\n",
    "                 size=\"Healthy life expectancy at birth\",\n",
    "                 color=\"Country name\",\n",
    "                 hover_name=\"Country name\",\n",
    "                 title=\"GDP vs Happiness (Bubble Plot)\")\n",
    "st.plotly_chart(fig)\n",
    "\"\"\"\n"
   ]
  },
  {
   "cell_type": "code",
   "execution_count": null,
   "id": "5d940a09",
   "metadata": {},
   "outputs": [],
   "source": [
    "\n",
    "# Step 2: Save the string to a file named 'app.py'\n",
    "with open(\"app.py\", \"w\") as f:\n",
    "    f.write(streamlit_code)\n",
    "print(\"✅ app.py file has been created. You can now download it from the left Files tab.\")\n"
   ]
  }
 ],
 "metadata": {},
 "nbformat": 4,
 "nbformat_minor": 5
}
